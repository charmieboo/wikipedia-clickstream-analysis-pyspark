{
 "cells": [
  {
   "cell_type": "markdown",
   "id": "d8b84805",
   "metadata": {},
   "source": [
    "# Analyzing Wikipedia Clickstream Data\n",
    "I will be working with Wikipedia’s open-source datasets. Wikipedia maintains a dataset called “Clickstream” that records clicks between pairs of linked Wikipedia articles. Because not all readers arrive at a Wikipedia article by clicking a link from another, the dataset also includes categories for clicks that originate outside of Wikipedia (e.g., external-search tracks all clicks coming from major search engines).\n",
    "\n",
    "* [Project Page Link](https://www.codecademy.com/courses/big-data-pyspark/projects/analyzing-wikipedia-pyspark)"
   ]
  },
  {
   "cell_type": "markdown",
   "id": "8fddc058",
   "metadata": {},
   "source": [
    "## Acquiring and Loading Data"
   ]
  },
  {
   "cell_type": "code",
   "execution_count": 1,
   "id": "33467f42",
   "metadata": {},
   "outputs": [],
   "source": [
    "from pyspark.sql import SparkSession"
   ]
  },
  {
   "cell_type": "markdown",
   "id": "b2313603",
   "metadata": {},
   "source": [
    "## Introduction to Clickstream Data"
   ]
  },
  {
   "cell_type": "code",
   "execution_count": 2,
   "id": "13837f16",
   "metadata": {},
   "outputs": [],
   "source": [
    "# Create a new SparkSession\n",
    "spark = SparkSession.builder.getOrCreate()"
   ]
  },
  {
   "cell_type": "markdown",
   "id": "377fbbef",
   "metadata": {},
   "source": [
    "Create an RDD from a list of sample clickstream counts and save it as `clickstream_counts_rdd`."
   ]
  },
  {
   "cell_type": "code",
   "execution_count": 4,
   "id": "92b1a38b",
   "metadata": {},
   "outputs": [],
   "source": [
    "# Sample clickstream counts\n",
    "sample_clickstream_counts = [\n",
    "    [\"other-search\", \"Hanging_Gardens_of_Babylon\", \"external\", 47000],\n",
    "    [\"other-empty\", \"Hanging_Gardens_of_Babylon\", \"external\", 34600],\n",
    "    [\"Wonders_of_the_World\", \"Hanging_Gardens_of_Babylon\", \"link\", 14000],\n",
    "    [\"Babylon\", \"Hanging_Gardens_of_Babylon\", \"link\", 2500]\n",
    "]\n",
    "\n",
    "# Create RDD from sample data\n",
    "clickstream_counts_rdd = spark.sparkContext.parallelize(\n",
    "    sample_clickstream_counts\n",
    ")"
   ]
  },
  {
   "cell_type": "markdown",
   "id": "4ae6f0d2",
   "metadata": {},
   "source": [
    "Now, create a DataFrame named `clickstream_sample_df`"
   ]
  },
  {
   "cell_type": "code",
   "execution_count": 5,
   "id": "12dd3ee7",
   "metadata": {},
   "outputs": [
    {
     "name": "stdout",
     "output_type": "stream",
     "text": [
      "+--------------------+--------------------+-------------+----------+\n",
      "|         source_page|         target_page|link_category|link_count|\n",
      "+--------------------+--------------------+-------------+----------+\n",
      "|        other-search|Hanging_Gardens_o...|     external|     47000|\n",
      "|         other-empty|Hanging_Gardens_o...|     external|     34600|\n",
      "|Wonders_of_the_World|Hanging_Gardens_o...|         link|     14000|\n",
      "|             Babylon|Hanging_Gardens_o...|         link|      2500|\n",
      "+--------------------+--------------------+-------------+----------+\n",
      "\n"
     ]
    }
   ],
   "source": [
    "# Create a DataFrame from the RDD of sample clickstream counts\n",
    "clickstream_sample_df = clickstream_counts_rdd.toDF([\"source_page\", \"target_page\",  \"link_category\", \"link_count\"])\n",
    "\n",
    "# Display the DataFrame to the notebook\n",
    "clickstream_sample_df.show(5)"
   ]
  },
  {
   "cell_type": "markdown",
   "id": "1268c0b0",
   "metadata": {},
   "source": [
    "Inspecting Clickstream Data"
   ]
  },
  {
   "cell_type": "markdown",
   "id": "1de43074",
   "metadata": {},
   "source": [
    "Read the files in `./cleaned/clickstream/` into a new Spark DataFrame named `clickstream` and display the first few rows of the DataFrame in the notebook"
   ]
  },
  {
   "cell_type": "code",
   "execution_count": 6,
   "id": "b1e284f2",
   "metadata": {},
   "outputs": [
    {
     "name": "stdout",
     "output_type": "stream",
     "text": [
      "+-------------------+--------------+-------------+-------------+-----------+\n",
      "|           referrer|      resource|link_category|language_code|click_count|\n",
      "+-------------------+--------------+-------------+-------------+-----------+\n",
      "|   Daniel_Day-Lewis|Phantom_Thread|         link|           en|      43190|\n",
      "|     other-internal|Phantom_Thread|     external|           en|      21683|\n",
      "|        other-empty|Phantom_Thread|     external|           en|     169532|\n",
      "|90th_Academy_Awards|Phantom_Thread|         link|           en|      40449|\n",
      "|       other-search|Phantom_Thread|     external|           en|     536940|\n",
      "+-------------------+--------------+-------------+-------------+-----------+\n",
      "only showing top 5 rows\n",
      "\n"
     ]
    }
   ],
   "source": [
    "clickstream = spark.read.option('header', True) \\\n",
    "    .option('delimiter', '\\t') \\\n",
    "    .option('inferSchema', True) \\\n",
    "    .csv(\"./cleaned/clickstream/\")\n",
    "\n",
    "clickstream.show(5)"
   ]
  },
  {
   "cell_type": "markdown",
   "id": "bdeb6013",
   "metadata": {},
   "source": [
    "Print the schema of the DataFrame in the notebook."
   ]
  },
  {
   "cell_type": "code",
   "execution_count": 8,
   "id": "934cc169",
   "metadata": {},
   "outputs": [
    {
     "name": "stdout",
     "output_type": "stream",
     "text": [
      "root\n",
      " |-- referrer: string (nullable = true)\n",
      " |-- resource: string (nullable = true)\n",
      " |-- link_category: string (nullable = true)\n",
      " |-- language_code: string (nullable = true)\n",
      " |-- click_count: integer (nullable = true)\n",
      "\n"
     ]
    }
   ],
   "source": [
    "clickstream.printSchema()"
   ]
  },
  {
   "cell_type": "markdown",
   "id": "02f18366",
   "metadata": {},
   "source": [
    "Drop the `language_code` column from clickstream."
   ]
  },
  {
   "cell_type": "code",
   "execution_count": 10,
   "id": "17fa2a20",
   "metadata": {},
   "outputs": [
    {
     "name": "stdout",
     "output_type": "stream",
     "text": [
      "+-------------------+--------------+-------------+-----------+\n",
      "|           referrer|      resource|link_category|click_count|\n",
      "+-------------------+--------------+-------------+-----------+\n",
      "|   Daniel_Day-Lewis|Phantom_Thread|         link|      43190|\n",
      "|     other-internal|Phantom_Thread|     external|      21683|\n",
      "|        other-empty|Phantom_Thread|     external|     169532|\n",
      "|90th_Academy_Awards|Phantom_Thread|         link|      40449|\n",
      "|       other-search|Phantom_Thread|     external|     536940|\n",
      "+-------------------+--------------+-------------+-----------+\n",
      "only showing top 5 rows\n",
      "\n",
      "root\n",
      " |-- referrer: string (nullable = true)\n",
      " |-- resource: string (nullable = true)\n",
      " |-- link_category: string (nullable = true)\n",
      " |-- click_count: integer (nullable = true)\n",
      "\n"
     ]
    }
   ],
   "source": [
    "clickstream = clickstream.drop(\"language_code\")\n",
    "\n",
    "clickstream.show(5)\n",
    "clickstream.printSchema()"
   ]
  },
  {
   "cell_type": "markdown",
   "id": "33ed64a3",
   "metadata": {},
   "source": [
    "Rename `referrer` and `resource` to `source_page` and `target_page`, respectively,"
   ]
  },
  {
   "cell_type": "code",
   "execution_count": 11,
   "id": "0b75baed",
   "metadata": {},
   "outputs": [
    {
     "name": "stdout",
     "output_type": "stream",
     "text": [
      "+-------------------+--------------+-------------+-----------+\n",
      "|        source_page|   target_page|link_category|click_count|\n",
      "+-------------------+--------------+-------------+-----------+\n",
      "|   Daniel_Day-Lewis|Phantom_Thread|         link|      43190|\n",
      "|     other-internal|Phantom_Thread|     external|      21683|\n",
      "|        other-empty|Phantom_Thread|     external|     169532|\n",
      "|90th_Academy_Awards|Phantom_Thread|         link|      40449|\n",
      "|       other-search|Phantom_Thread|     external|     536940|\n",
      "+-------------------+--------------+-------------+-----------+\n",
      "only showing top 5 rows\n",
      "\n",
      "root\n",
      " |-- source_page: string (nullable = true)\n",
      " |-- target_page: string (nullable = true)\n",
      " |-- link_category: string (nullable = true)\n",
      " |-- click_count: integer (nullable = true)\n",
      "\n"
     ]
    }
   ],
   "source": [
    "# Rename `referrer` and `resource` to `source_page` and `target_page`\n",
    "clickstream = clickstream.withColumnRenamed(\"referrer\", \"source_page\")\\\n",
    "        .withColumnRenamed(\"resource\", \"target_page\")\n",
    "  \n",
    "clickstream.show(5)\n",
    "clickstream.printSchema()"
   ]
  },
  {
   "cell_type": "markdown",
   "id": "572ce589",
   "metadata": {},
   "source": [
    "## Querying Clickstream Data"
   ]
  },
  {
   "cell_type": "markdown",
   "id": "2b8a031d",
   "metadata": {},
   "source": [
    "Using PySpark DataFrame methods and SQL, add the `clickstream` DataFrame as a temporary view named `clickstream` to make the data queryable with `sparkSession.sql()`"
   ]
  },
  {
   "cell_type": "code",
   "execution_count": 14,
   "id": "f017bdd8",
   "metadata": {},
   "outputs": [],
   "source": [
    "clickstream.createOrReplaceTempView(\"clickstream\")"
   ]
  },
  {
   "cell_type": "markdown",
   "id": "afd76c53",
   "metadata": {},
   "source": [
    "Filter the dataset to entries with `Hanging_Gardens_of_Babylon` as the `target_page` and order the result by `click_count` using PySpark DataFrame methods."
   ]
  },
  {
   "cell_type": "code",
   "execution_count": 15,
   "id": "6c20a4de",
   "metadata": {},
   "outputs": [
    {
     "name": "stdout",
     "output_type": "stream",
     "text": [
      "+--------------------+--------------------+-------------+-----------+\n",
      "|         source_page|         target_page|link_category|click_count|\n",
      "+--------------------+--------------------+-------------+-----------+\n",
      "|        other-search|Hanging_Gardens_o...|     external|      47088|\n",
      "|         other-empty|Hanging_Gardens_o...|     external|      34619|\n",
      "|Wonders_of_the_World|Hanging_Gardens_o...|         link|      14668|\n",
      "|Seven_Wonders_of_...|Hanging_Gardens_o...|         link|      12296|\n",
      "+--------------------+--------------------+-------------+-----------+\n",
      "\n"
     ]
    }
   ],
   "source": [
    "clickstream.filter(clickstream.target_page == 'Hanging_Gardens_of_Babylon')\\\n",
    "    .orderBy('click_count', ascending=False)\\\n",
    "    .show(10)"
   ]
  },
  {
   "cell_type": "markdown",
   "id": "f5426a56",
   "metadata": {},
   "source": [
    "Now performing with a SQL query. "
   ]
  },
  {
   "cell_type": "code",
   "execution_count": 16,
   "id": "a49bbec6",
   "metadata": {
    "scrolled": true
   },
   "outputs": [
    {
     "name": "stdout",
     "output_type": "stream",
     "text": [
      "+--------------------+--------------------+-------------+-----------+\n",
      "|         source_page|         target_page|link_category|click_count|\n",
      "+--------------------+--------------------+-------------+-----------+\n",
      "|        other-search|Hanging_Gardens_o...|     external|      47088|\n",
      "|         other-empty|Hanging_Gardens_o...|     external|      34619|\n",
      "|Wonders_of_the_World|Hanging_Gardens_o...|         link|      14668|\n",
      "|Seven_Wonders_of_...|Hanging_Gardens_o...|         link|      12296|\n",
      "+--------------------+--------------------+-------------+-----------+\n",
      "\n"
     ]
    }
   ],
   "source": [
    "spark.sql(\n",
    "    \"\"\"\n",
    "    SELECT * FROM clickstream\n",
    "    WHERE target_page = \"Hanging_Gardens_of_Babylon\"\n",
    "    ORDER BY click_count desc\n",
    "    \"\"\"\n",
    ").show(10)"
   ]
  },
  {
   "cell_type": "markdown",
   "id": "0b4d53e9",
   "metadata": {},
   "source": [
    "Calculate the sum of `click_count` grouped by `link_category` using PySpark DataFrame methods."
   ]
  },
  {
   "cell_type": "code",
   "execution_count": 18,
   "id": "38bac86c",
   "metadata": {},
   "outputs": [
    {
     "name": "stdout",
     "output_type": "stream",
     "text": [
      "+-------------+----------------+\n",
      "|link_category|sum(click_count)|\n",
      "+-------------+----------------+\n",
      "|         link|        97805811|\n",
      "|        other|         9338172|\n",
      "|     external|      3248677856|\n",
      "+-------------+----------------+\n",
      "\n"
     ]
    }
   ],
   "source": [
    "clickstream.groupBy('link_category')\\\n",
    "    .sum()\\\n",
    "    .show(5)"
   ]
  },
  {
   "cell_type": "markdown",
   "id": "461eadc9",
   "metadata": {},
   "source": [
    "Now, using a SQL query:"
   ]
  },
  {
   "cell_type": "code",
   "execution_count": 19,
   "id": "817ff99e",
   "metadata": {},
   "outputs": [
    {
     "name": "stdout",
     "output_type": "stream",
     "text": [
      "+-------------+----------------+\n",
      "|link_category|sum(click_count)|\n",
      "+-------------+----------------+\n",
      "|         link|        97805811|\n",
      "|        other|         9338172|\n",
      "|     external|      3248677856|\n",
      "+-------------+----------------+\n",
      "\n"
     ]
    }
   ],
   "source": [
    "spark.sql(\n",
    "    \"\"\"\n",
    "    SELECT link_category, SUM(click_count) FROM clickstream\n",
    "    GROUP BY link_category\n",
    "    \"\"\"\n",
    ").show(5)"
   ]
  },
  {
   "cell_type": "markdown",
   "id": "c8b756c1",
   "metadata": {},
   "source": [
    "## Saving Results to Disk"
   ]
  },
  {
   "cell_type": "markdown",
   "id": "79110ef5",
   "metadata": {},
   "source": [
    "Let's create a new DataFrame named `internal_clickstream` that only contains article pairs where `link_category` is `link`. Use `filter()` to select rows to a specific condition and `select()` to choose which columns to return from the query."
   ]
  },
  {
   "cell_type": "code",
   "execution_count": 20,
   "id": "29e74d43",
   "metadata": {},
   "outputs": [
    {
     "name": "stdout",
     "output_type": "stream",
     "text": [
      "+----------------------------+----------------------------+-----------+\n",
      "|source_page                 |target_page                 |click_count|\n",
      "+----------------------------+----------------------------+-----------+\n",
      "|Daniel_Day-Lewis            |Phantom_Thread              |43190      |\n",
      "|90th_Academy_Awards         |Phantom_Thread              |40449      |\n",
      "|Shinee                      |Kim_Jong-hyun_(singer)      |24433      |\n",
      "|Agnyaathavaasi              |Anu_Emmanuel                |15020      |\n",
      "|Naa_Peru_Surya              |Anu_Emmanuel                |12361      |\n",
      "|Mariah_Carey                |Nick_Cannon                 |16214      |\n",
      "|Kesha                       |Rainbow_(Kesha_album)       |11448      |\n",
      "|David_Attenborough          |John_Attenborough           |11252      |\n",
      "|Boney_M.                    |Bobby_Farrell               |14095      |\n",
      "|The_End_of_the_F***ing_World|Jessica_Barden              |237279     |\n",
      "|Quentin_Tarantino           |The_Hateful_Eight           |12018      |\n",
      "|Ready_Player_One_(film)     |Olivia_Cooke                |17468      |\n",
      "|Royal_Rumble_(2018)         |Kevin_Owens_and_Sami_Zayn   |11503      |\n",
      "|Macaulay_Culkin             |Brenda_Song                 |20477      |\n",
      "|Altered_Carbon              |Altered_Carbon_(TV_series)  |23962      |\n",
      "|Lil_Pump                    |Smokepurpp                  |36736      |\n",
      "|Fifth_Harmony               |Camila_Cabello              |30959      |\n",
      "|Havana_(Camila_Cabello_song)|Camila_Cabello              |12803      |\n",
      "|Jennifer_Aniston            |John_Aniston                |26498      |\n",
      "|Kingsman:_The_Golden_Circle |Kingsman:_The_Secret_Service|11969      |\n",
      "+----------------------------+----------------------------+-----------+\n",
      "only showing top 20 rows\n",
      "\n"
     ]
    }
   ],
   "source": [
    "internal_clickstream = clickstream\\\n",
    "    .select([\"source_page\", \"target_page\", \"click_count\"])\\\n",
    "    .filter(clickstream.link_category == 'link')\n",
    "\n",
    "# Display the first few rows of the DataFrame in the notebook\n",
    "internal_clickstream.show(truncate=False)"
   ]
  },
  {
   "cell_type": "markdown",
   "id": "45f45f94",
   "metadata": {},
   "source": [
    "Save the `internal_clickstream` DataFrame as CSV files in a directory called `./results/article_to_article_csv/`."
   ]
  },
  {
   "cell_type": "code",
   "execution_count": 21,
   "id": "93c015ca",
   "metadata": {},
   "outputs": [],
   "source": [
    "internal_clickstream.write.csv('./results/article_links_csv/', mode=\"overwrite\")"
   ]
  },
  {
   "cell_type": "markdown",
   "id": "aa754d6b",
   "metadata": {},
   "source": [
    "Save the `internal_clickstream` DataFrame as parquet files in a directory called `./results/article_to_article_pq/`."
   ]
  },
  {
   "cell_type": "code",
   "execution_count": 22,
   "id": "3d542098",
   "metadata": {},
   "outputs": [],
   "source": [
    "internal_clickstream.write.parquet('./results/article_links_parquet/', mode=\"overwrite\")"
   ]
  },
  {
   "cell_type": "code",
   "execution_count": 23,
   "id": "55b2c378",
   "metadata": {},
   "outputs": [],
   "source": [
    "spark.stop()"
   ]
  }
 ],
 "metadata": {
  "kernelspec": {
   "display_name": "Python 3 (ipykernel)",
   "language": "python",
   "name": "python3"
  },
  "language_info": {
   "codemirror_mode": {
    "name": "ipython",
    "version": 3
   },
   "file_extension": ".py",
   "mimetype": "text/x-python",
   "name": "python",
   "nbconvert_exporter": "python",
   "pygments_lexer": "ipython3",
   "version": "3.10.15"
  }
 },
 "nbformat": 4,
 "nbformat_minor": 5
}
